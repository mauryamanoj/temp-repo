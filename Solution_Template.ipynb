{
 "cells": [
  {
   "cell_type": "code",
   "execution_count": 1,
   "metadata": {},
   "outputs": [],
   "source": [
    "#Function for calculating distance from each node/city to Destination, we will be using math library for sin,cos calculations\n",
    "from math import radians, cos, sin, asin, sqrt\n",
    "def haversine(source, destination):\n",
    "    lon1, lat1, lon2, lat2 = map(radians, [source.get(\"longitude\"), source.get(\"latitude\"),\n",
    "                                           destination.get(\"longitude\"), destination.get(\"latitude\")])\n",
    "    #Haversine Formula Implementation \n",
    "    dlon = lon2 - lon1 \n",
    "    dlat = lat2 - lat1 \n",
    "    a = sin(dlat/2)**2 + cos(lat1) * cos(lat2) * sin(dlon/2)**2\n",
    "    c = 2 * asin(sqrt(a)) \n",
    "    r = 6371\n",
    "    return c * r"
   ]
  },
  {
   "cell_type": "code",
   "execution_count": 2,
   "metadata": {},
   "outputs": [
    {
     "name": "stdout",
     "output_type": "stream",
     "text": [
      "Distance between Source to Destination:\n",
      "454.9871800008658\n"
     ]
    }
   ],
   "source": [
    "#Code Block 2 ..\n",
    "FRONTIER = []\n",
    "routes = {'BANGALURU': {'BELGAUN': 507, 'HUBLI': 412, 'SIRSI': 405},\n",
    "            'BELGAUN': {'CHORLA-GHAT': 59},\n",
    "            'HUBLI': {'YELLAPUR': 71, 'DHARWAD': 18},\n",
    "            'SIRSI': {'ANKOLA': 91},\n",
    "            'YELLAPUR': {'ANKOLA': 72},\n",
    "            'DHARWAD': {'GOA': 140},\n",
    "            'CHORLA-GHAT': {'GOA': 67},\n",
    "            'ANKOLA': {'GOA': 111}}\n",
    "\n",
    "SOURCE = \"BANGALURU\"\n",
    "DESTINATION = \"GOA\"\n",
    "\n",
    "#Longitude, Latitude Mapping\n",
    "citieslonglat = {'BANGALURU': {'longitude': 77.5946, 'latitude': 12.9716},\n",
    "            'BELGAUN': {'longitude': 74.4977, 'latitude': 15.8497},\n",
    "            'HUBLI': {'longitude': 75.1240, 'latitude': 15.3647},\n",
    "            'SIRSI': {'longitude': 74.8441, 'latitude': 14.6196},\n",
    "            'YELLAPUR': {'longitude': 74.7121, 'latitude': 14.9643},\n",
    "            'DHARWAD': {'longitude': 75.0078, 'latitude': 15.4589},\n",
    "            'CHORLA-GHAT': {'longitude': 74.1189, 'latitude': 15.6496},\n",
    "            'ANKOLA': {'longitude': 74.3001, 'latitude': 14.6653},\n",
    "            'GOA': {'longitude': 74.1240, 'latitude': 15.2993}}\n",
    "\n",
    "print(\"Distance between Source to Destination:\")\n",
    "print(haversine(citieslonglat.get(SOURCE),citieslonglat.get(DESTINATION)))"
   ]
  },
  {
   "cell_type": "code",
   "execution_count": 3,
   "metadata": {},
   "outputs": [],
   "source": [
    "#CityNode will contain all the information of the current node, path contains the Path traversed to reach this node\n",
    "class cityNode:\n",
    "    def __init__(self, distance,heurestic,total_distance,city, path):\n",
    "        self.distance = distance\n",
    "        self.heurestic = heurestic\n",
    "        self.total_distance = total_distance\n",
    "        self.city = city\n",
    "        self.path = path "
   ]
  },
  {
   "cell_type": "code",
   "execution_count": 4,
   "metadata": {},
   "outputs": [],
   "source": [
    "#A Star Algorithm Implementation \n",
    "#Using heapq just to implement the Min Priority Queue functionality\n",
    "import heapq\n",
    "cities_visited = [SOURCE]\n",
    "\n",
    "def Astar(node):\n",
    "    nodes = routes.get(node.city)\n",
    "    print(\"\")\n",
    "    print(\"Expanding Node:\"+node.city)\n",
    "    for key,value in nodes.items():\n",
    "        if key not in cities_visited:\n",
    "            # Calculating h(n) executing haversine forumla to get the haversine distance \n",
    "            haversineDistance = haversine(citieslonglat.get(key),citieslonglat.get(DESTINATION))\n",
    "            #f(n) = g(n) + h(n)\n",
    "            total = value+node.distance+haversineDistance\n",
    "            #Create a node with all the Detials like distance,total distance, path traveresed etc.\n",
    "            cnode = cityNode(value+node.distance,haversineDistance,total,key,node.path +\" => \"+ key)\n",
    "            print(\"Node Generated:\"+key+\" and Distance: \"+str(total))\n",
    "            #Check if city is already visited and update min priority queue Fontier\n",
    "            checkifalreadyvisited(cnode)\n",
    "    #Heapify the Forntier to achieve the Min Priority Queue functionalty\n",
    "    heapq.heapify(FRONTIER)\n",
    "    for item in FRONTIER:\n",
    "        print(\"Frontier:\"+item.city)\n",
    "    #Get the node with Minimum Distance \n",
    "    distance, citynode = heapq.heappop(FRONTIER)\n",
    "    cities_visited.append(citynode.city)\n",
    "    if citynode.city!=DESTINATION:\n",
    "        return Astar(citynode)\n",
    "    if citynode.city==DESTINATION:\n",
    "        print(\"Sortest Path details:\")\n",
    "        return citynode\n",
    "\n",
    "def checkifalreadyvisited(curnode):\n",
    "        dupnode  = list(filter(lambda x: (x[1].city == curnode.city), FRONTIER))\n",
    "        if len(dupnode) <=0:\n",
    "            FRONTIER.append((curnode.total_distance,curnode))\n",
    "            return\n",
    "        for distance, exisingnode in FRONTIER:\n",
    "            if curnode.city == exisingnode.city:\n",
    "                if distance>curnode.total_distance:\n",
    "                    FRONTIER.remove((distance, exisingnode))\n",
    "                    FRONTIER.append((curnode.total_distance, curnode))              \n"
   ]
  },
  {
   "cell_type": "code",
   "execution_count": 5,
   "metadata": {},
   "outputs": [
    {
     "name": "stdout",
     "output_type": "stream",
     "text": [
      "\n",
      "Expanding Node:BANGALURU\n",
      "Node Generated:BELGAUN and Distance: 580.1290280456749\n",
      "Node Generated:HUBLI and Distance: 519.4836773457268\n",
      "Node Generated:SIRSI and Distance: 513.1496393987645\n"
     ]
    },
    {
     "ename": "AttributeError",
     "evalue": "'tuple' object has no attribute 'city'",
     "output_type": "error",
     "traceback": [
      "\u001b[1;31m---------------------------------------------------------------------------\u001b[0m",
      "\u001b[1;31mAttributeError\u001b[0m                            Traceback (most recent call last)",
      "\u001b[1;32m<ipython-input-5-4bdab0c3da4a>\u001b[0m in \u001b[0;36m<module>\u001b[1;34m\u001b[0m\n\u001b[0;32m      1\u001b[0m \u001b[1;31m#Computation call\u001b[0m\u001b[1;33m\u001b[0m\u001b[1;33m\u001b[0m\u001b[1;33m\u001b[0m\u001b[0m\n\u001b[0;32m      2\u001b[0m \u001b[0msourcenode\u001b[0m\u001b[1;33m=\u001b[0m \u001b[0mcityNode\u001b[0m\u001b[1;33m(\u001b[0m\u001b[1;36m0\u001b[0m\u001b[1;33m,\u001b[0m\u001b[1;36m0\u001b[0m\u001b[1;33m,\u001b[0m\u001b[1;36m0\u001b[0m\u001b[1;33m,\u001b[0m\u001b[1;34m\"BANGALURU\"\u001b[0m\u001b[1;33m,\u001b[0m\u001b[1;34m\"BANGALURU\"\u001b[0m\u001b[1;33m)\u001b[0m\u001b[1;33m\u001b[0m\u001b[1;33m\u001b[0m\u001b[0m\n\u001b[1;32m----> 3\u001b[1;33m \u001b[0mdestination\u001b[0m \u001b[1;33m=\u001b[0m \u001b[0mAstar\u001b[0m\u001b[1;33m(\u001b[0m\u001b[0msourcenode\u001b[0m\u001b[1;33m)\u001b[0m\u001b[1;33m\u001b[0m\u001b[1;33m\u001b[0m\u001b[0m\n\u001b[0m\u001b[0;32m      4\u001b[0m \u001b[0mprint\u001b[0m\u001b[1;33m(\u001b[0m\u001b[0mdestination\u001b[0m\u001b[1;33m.\u001b[0m\u001b[0mpath\u001b[0m\u001b[1;33m)\u001b[0m\u001b[1;33m\u001b[0m\u001b[1;33m\u001b[0m\u001b[0m\n\u001b[0;32m      5\u001b[0m \u001b[0mprint\u001b[0m\u001b[1;33m(\u001b[0m\u001b[0mdestination\u001b[0m\u001b[1;33m.\u001b[0m\u001b[0mcity\u001b[0m\u001b[1;33m)\u001b[0m\u001b[1;33m\u001b[0m\u001b[1;33m\u001b[0m\u001b[0m\n",
      "\u001b[1;32m<ipython-input-4-8cf6e12740a4>\u001b[0m in \u001b[0;36mAstar\u001b[1;34m(node)\u001b[0m\n\u001b[0;32m     22\u001b[0m     \u001b[0mheapq\u001b[0m\u001b[1;33m.\u001b[0m\u001b[0mheapify\u001b[0m\u001b[1;33m(\u001b[0m\u001b[0mFRONTIER\u001b[0m\u001b[1;33m)\u001b[0m\u001b[1;33m\u001b[0m\u001b[1;33m\u001b[0m\u001b[0m\n\u001b[0;32m     23\u001b[0m     \u001b[1;32mfor\u001b[0m \u001b[0mitem\u001b[0m \u001b[1;32min\u001b[0m \u001b[0mFRONTIER\u001b[0m\u001b[1;33m:\u001b[0m\u001b[1;33m\u001b[0m\u001b[1;33m\u001b[0m\u001b[0m\n\u001b[1;32m---> 24\u001b[1;33m         \u001b[0mprint\u001b[0m\u001b[1;33m(\u001b[0m\u001b[1;34m\"Frontier:\"\u001b[0m\u001b[1;33m+\u001b[0m\u001b[0mitem\u001b[0m\u001b[1;33m.\u001b[0m\u001b[0mcity\u001b[0m\u001b[1;33m)\u001b[0m\u001b[1;33m\u001b[0m\u001b[1;33m\u001b[0m\u001b[0m\n\u001b[0m\u001b[0;32m     25\u001b[0m     \u001b[1;31m#Get the node with Minimum Distance\u001b[0m\u001b[1;33m\u001b[0m\u001b[1;33m\u001b[0m\u001b[1;33m\u001b[0m\u001b[0m\n\u001b[0;32m     26\u001b[0m     \u001b[0mdistance\u001b[0m\u001b[1;33m,\u001b[0m \u001b[0mcitynode\u001b[0m \u001b[1;33m=\u001b[0m \u001b[0mheapq\u001b[0m\u001b[1;33m.\u001b[0m\u001b[0mheappop\u001b[0m\u001b[1;33m(\u001b[0m\u001b[0mFRONTIER\u001b[0m\u001b[1;33m)\u001b[0m\u001b[1;33m\u001b[0m\u001b[1;33m\u001b[0m\u001b[0m\n",
      "\u001b[1;31mAttributeError\u001b[0m: 'tuple' object has no attribute 'city'"
     ]
    }
   ],
   "source": [
    "#Computation call\n",
    "sourcenode= cityNode(0,0,0,\"BANGALURU\",\"BANGALURU\")\n",
    "destination = Astar(sourcenode)\n",
    "print(destination.path)\n",
    "print(destination.city)\n",
    "print(destination.total_distance)     \n"
   ]
  },
  {
   "cell_type": "markdown",
   "metadata": {},
   "source": [
    "The agent should provide expected output for questions mentioned below in the subsequent blocks"
   ]
  },
  {
   "cell_type": "code",
   "execution_count": null,
   "metadata": {},
   "outputs": [],
   "source": [
    "# Execute statement to retrieve the path taken here\n",
    "print(\"Path taken for this travel: \"+destination.path)"
   ]
  },
  {
   "cell_type": "code",
   "execution_count": null,
   "metadata": {},
   "outputs": [],
   "source": [
    "# Execute statement to retrieve the cost of the path here\n",
    "print(\"Total Cost for Optimal path is  \"+str(destination.total_distance))"
   ]
  },
  {
   "cell_type": "code",
   "execution_count": null,
   "metadata": {},
   "outputs": [],
   "source": [
    "# Execute statement to retrieve the total number of nodes visited to get this state here\n",
    "print('Total Number of Nodes Visited:'+str(len(cities_visited)))\n",
    "print('Nodes Visited:'+str(cities_visited))"
   ]
  }
 ],
 "metadata": {
  "kernelspec": {
   "display_name": "Python 3",
   "language": "python",
   "name": "python3"
  },
  "language_info": {
   "codemirror_mode": {
    "name": "ipython",
    "version": 3
   },
   "file_extension": ".py",
   "mimetype": "text/x-python",
   "name": "python",
   "nbconvert_exporter": "python",
   "pygments_lexer": "ipython3",
   "version": "3.7.4"
  }
 },
 "nbformat": 4,
 "nbformat_minor": 2
}
